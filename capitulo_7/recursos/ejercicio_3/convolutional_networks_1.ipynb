{
 "cells": [
  {
   "cell_type": "code",
   "execution_count": 74,
   "metadata": {},
   "outputs": [
    {
     "name": "stdout",
     "output_type": "stream",
     "text": [
      "WARNING: pip is being invoked by an old script wrapper. This will fail in a future version of pip.\n",
      "Please see https://github.com/pypa/pip/issues/5599 for advice on fixing the underlying issue.\n",
      "To avoid this problem you can invoke Python with '-m pip' instead of running pip directly.\n",
      "Requirement already satisfied: pandas in /opt/conda/lib/python3.7/site-packages (0.25.3)\n",
      "Requirement already satisfied: scikit-learn in /opt/conda/lib/python3.7/site-packages (0.22.1)\n",
      "Requirement already satisfied: numpy in /opt/conda/lib/python3.7/site-packages (1.17.5)\n",
      "Requirement already satisfied: seaborn in /opt/conda/lib/python3.7/site-packages (0.9.0)\n",
      "Requirement already satisfied: matplotlib in /opt/conda/lib/python3.7/site-packages (3.1.1)\n",
      "Collecting tensorflow==1.15\n",
      "  Using cached tensorflow-1.15.0-cp37-cp37m-manylinux2010_x86_64.whl (412.3 MB)\n",
      "Requirement already satisfied: pytz>=2017.2 in /opt/conda/lib/python3.7/site-packages (from pandas) (2019.3)\n",
      "Requirement already satisfied: python-dateutil>=2.6.1 in /opt/conda/lib/python3.7/site-packages (from pandas) (2.8.1)\n",
      "Requirement already satisfied: joblib>=0.11 in /opt/conda/lib/python3.7/site-packages (from scikit-learn) (0.14.1)\n",
      "Requirement already satisfied: scipy>=0.17.0 in /opt/conda/lib/python3.7/site-packages (from scikit-learn) (1.4.1)\n",
      "Requirement already satisfied: pyparsing!=2.0.4,!=2.1.2,!=2.1.6,>=2.0.1 in /opt/conda/lib/python3.7/site-packages (from matplotlib) (2.4.6)\n",
      "Requirement already satisfied: kiwisolver>=1.0.1 in /opt/conda/lib/python3.7/site-packages (from matplotlib) (1.1.0)\n",
      "Requirement already satisfied: cycler>=0.10 in /opt/conda/lib/python3.7/site-packages (from matplotlib) (0.10.0)\n",
      "Requirement already satisfied: wrapt>=1.11.1 in /opt/conda/lib/python3.7/site-packages (from tensorflow==1.15) (1.11.2)\n",
      "Requirement already satisfied: termcolor>=1.1.0 in /opt/conda/lib/python3.7/site-packages (from tensorflow==1.15) (1.1.0)\n",
      "Requirement already satisfied: astor>=0.6.0 in /opt/conda/lib/python3.7/site-packages (from tensorflow==1.15) (0.8.1)\n",
      "Collecting tensorflow-estimator==1.15.1\n",
      "  Using cached tensorflow_estimator-1.15.1-py2.py3-none-any.whl (503 kB)\n",
      "Requirement already satisfied: absl-py>=0.7.0 in /opt/conda/lib/python3.7/site-packages (from tensorflow==1.15) (0.9.0)\n",
      "Requirement already satisfied: keras-applications>=1.0.8 in /opt/conda/lib/python3.7/site-packages (from tensorflow==1.15) (1.0.8)\n",
      "Requirement already satisfied: keras-preprocessing>=1.0.5 in /opt/conda/lib/python3.7/site-packages (from tensorflow==1.15) (1.1.0)\n",
      "Requirement already satisfied: protobuf>=3.6.1 in /opt/conda/lib/python3.7/site-packages (from tensorflow==1.15) (3.11.2)\n",
      "Requirement already satisfied: six>=1.10.0 in /opt/conda/lib/python3.7/site-packages (from tensorflow==1.15) (1.14.0)\n",
      "Requirement already satisfied: google-pasta>=0.1.6 in /opt/conda/lib/python3.7/site-packages (from tensorflow==1.15) (0.1.8)\n",
      "Requirement already satisfied: wheel>=0.26 in /opt/conda/lib/python3.7/site-packages (from tensorflow==1.15) (0.34.1)\n",
      "Requirement already satisfied: opt-einsum>=2.3.2 in /opt/conda/lib/python3.7/site-packages (from tensorflow==1.15) (3.1.0)\n",
      "Requirement already satisfied: gast==0.2.2 in /opt/conda/lib/python3.7/site-packages (from tensorflow==1.15) (0.2.2)\n",
      "Collecting tensorboard<1.16.0,>=1.15.0\n",
      "  Using cached tensorboard-1.15.0-py3-none-any.whl (3.8 MB)\n",
      "Requirement already satisfied: grpcio>=1.8.6 in /opt/conda/lib/python3.7/site-packages (from tensorflow==1.15) (1.26.0)\n",
      "Requirement already satisfied: setuptools in /opt/conda/lib/python3.7/site-packages (from kiwisolver>=1.0.1->matplotlib) (45.1.0.post20200119)\n",
      "Requirement already satisfied: h5py in /opt/conda/lib/python3.7/site-packages (from keras-applications>=1.0.8->tensorflow==1.15) (2.10.0)\n",
      "Requirement already satisfied: werkzeug>=0.11.15 in /opt/conda/lib/python3.7/site-packages (from tensorboard<1.16.0,>=1.15.0->tensorflow==1.15) (0.16.1)\n",
      "Requirement already satisfied: markdown>=2.6.8 in /opt/conda/lib/python3.7/site-packages (from tensorboard<1.16.0,>=1.15.0->tensorflow==1.15) (3.1.1)\n",
      "Installing collected packages: tensorflow-estimator, tensorboard, tensorflow\n",
      "  Attempting uninstall: tensorflow-estimator\n",
      "    Found existing installation: tensorflow-estimator 1.14.0\n",
      "    Uninstalling tensorflow-estimator-1.14.0:\n",
      "      Successfully uninstalled tensorflow-estimator-1.14.0\n",
      "  Attempting uninstall: tensorboard\n",
      "    Found existing installation: tensorboard 1.14.0\n",
      "    Uninstalling tensorboard-1.14.0:\n",
      "      Successfully uninstalled tensorboard-1.14.0\n",
      "  Rolling back uninstall of tensorboard\n",
      "  Moving to /opt/conda/bin/tensorboard\n",
      "   from /tmp/pip-uninstall-43qju711/tensorboard\n",
      "  Moving to /opt/conda/lib/python3.7/site-packages/tensorboard-1.14.0.dist-info/\n",
      "   from /opt/conda/lib/python3.7/site-packages/~ensorboard-1.14.0.dist-info\n",
      "  Moving to /opt/conda/lib/python3.7/site-packages/tensorboard/\n",
      "   from /opt/conda/lib/python3.7/site-packages/~ensorboard\n",
      "\u001b[31mERROR: Could not install packages due to an EnvironmentError: [Errno 28] No space left on device: '/opt/conda/lib/python3.7/site-packages/tensorboard/backend'\n",
      "\u001b[0m\n"
     ]
    }
   ],
   "source": [
    "!pip install pandas scikit-learn numpy seaborn matplotlib numpy tensorflow==1.15"
   ]
  },
  {
   "cell_type": "code",
   "execution_count": 75,
   "metadata": {},
   "outputs": [],
   "source": [
    "import input_data\n",
    "import numpy as np\n",
    "import matplotlib.pyplot as plt\n",
    "import tensorflow as tf\n",
    "import os\n",
    "\n",
    "os.environ[\"CUDA_VISIBLE_DEVICES\"] = \"0\" #Disable GPU TRAININT"
   ]
  },
  {
   "cell_type": "code",
   "execution_count": 76,
   "metadata": {},
   "outputs": [
    {
     "name": "stdout",
     "output_type": "stream",
     "text": [
      "Extracting data/fashion/train-images-idx3-ubyte.gz\n",
      "Extracting data/fashion/train-labels-idx1-ubyte.gz\n",
      "Extracting data/fashion/t10k-images-idx3-ubyte.gz\n",
      "Extracting data/fashion/t10k-labels-idx1-ubyte.gz\n"
     ]
    }
   ],
   "source": [
    "# One_hot transforma las características (features) de una variable de valores discretos a una \n",
    "# codificación binaria en forma de vector.  \n",
    "\n",
    "Train_data_file = 'http://fashion-mnist.s3-website.eu-central-1.amazonaws.com/train-images-idx3-ubyte.gz'\n",
    "Train_label_file = 'http://fashion-mnist.s3-website.eu-central-1.amazonaws.com/train-labels-idx1-ubyte.gz'\n",
    "Test_data_file = 'http://fashion-mnist.s3-website.eu-central-1.amazonaws.com/t10k-images-idx3-ubyte.gz'\n",
    "Test_label_file = 'http://fashion-mnist.s3-website.eu-central-1.amazonaws.com/t10k-labels-idx1-ubyte.gz'\n",
    "\n",
    "full_data = data = input_data.read_data_sets('data/fashion', \n",
    "                                             source_url='http://fashion-mnist.s3-website.eu-central-1.amazonaws.com',\n",
    "                                             one_hot=True)\n",
    "\n",
    "LABELS = {\n",
    " 0: 'T-shirt/top',\n",
    " 1: 'Trouser',\n",
    " 2: 'Pullover',\n",
    " 3: 'Dress',\n",
    " 4: 'Coat',\n",
    " 5: 'Sandal',\n",
    " 6: 'Shirt',\n",
    " 7: 'Sneaker',\n",
    " 8: 'Bag',\n",
    " 9: 'Ankle boot',\n",
    "}"
   ]
  },
  {
   "cell_type": "code",
   "execution_count": 77,
   "metadata": {},
   "outputs": [
    {
     "name": "stdout",
     "output_type": "stream",
     "text": [
      "Conjunto de entrenamiento (Imágenes) shape: (55000, 784)\n",
      "Conjunto de entrenamiento (Labels) shape: (55000, 10)\n",
      "Conjunto de test (Imágenes) shape: (10000, 784)\n",
      "Conjunto de test (Labels) shape: (10000, 10)\n"
     ]
    }
   ],
   "source": [
    "print(\"Conjunto de entrenamiento (Imágenes) shape: {shape}\".format(shape=full_data.train.images.shape))\n",
    "print(\"Conjunto de entrenamiento (Labels) shape: {shape}\".format(shape=full_data.train.labels.shape))\n",
    "\n",
    "# Shapes of test set\n",
    "print(\"Conjunto de test (Imágenes) shape: {shape}\".format(shape=full_data.test.images.shape))\n",
    "print(\"Conjunto de test (Labels) shape: {shape}\".format(shape=full_data.test.labels.shape))"
   ]
  },
  {
   "cell_type": "code",
   "execution_count": 78,
   "metadata": {},
   "outputs": [
    {
     "data": {
      "image/png": "[encoded data removed]",
      "text/plain": [
       "<Figure size 720x720 with 2 Axes>"
      ]
     },
     "metadata": {
      "needs_background": "light"
     },
     "output_type": "display_data"
    }
   ],
   "source": [
    "def plot_image(plt, data, label, size, location):\n",
    "    plt.subplot(location)\n",
    "    img = np.reshape(data, size)\n",
    "    label = np.argmax(label)\n",
    "    plt.imshow(img)\n",
    "    plt.title(\"(Label: \" + str(LABELS[label]) + \")\")\n",
    "\n",
    "plt.figure(figsize=[10,10])\n",
    "plot_image(plt, \n",
    "           full_data.train.images[0], \n",
    "           full_data.train.labels[0,:], \n",
    "           (28, 28),\n",
    "           121)\n",
    "plot_image(plt, \n",
    "           full_data.test.images[5], \n",
    "           full_data.test.labels[5,:], \n",
    "           (28, 28),\n",
    "           122)"
   ]
  },
  {
   "cell_type": "code",
   "execution_count": 210,
   "metadata": {},
   "outputs": [],
   "source": [
    "size = 28\n",
    "\n",
    "train_X = data.train.images\n",
    "test_X = data.test.images\n",
    "\n",
    "train_y = data.train.labels\n",
    "test_y = data.test.labels"
   ]
  },
  {
   "cell_type": "code",
   "execution_count": 211,
   "metadata": {},
   "outputs": [],
   "source": [
    "n_input = size * size\n",
    "n_output = len(LABELS) \n",
    "weights = list()\n",
    "biases = list()\n",
    "\n",
    "def conv2d(x, W, b, strides=1):\n",
    "    x = tf.nn.conv2d(x, W, strides=[1, strides, strides, 1], padding='SAME')\n",
    "    x = tf.nn.bias_add(x, b)\n",
    "    return tf.nn.relu(x) \n",
    "\n",
    "def maxpool2d(x, k=2):\n",
    "    return tf.nn.max_pool(x, ksize=[1, k, k, 1], strides=[1, k, k, 1],padding='SAME')\n",
    "\n",
    "def fully_connected(x, w, b):\n",
    "    x = tf.reshape(x, [-1, w.get_shape().as_list()[0]])\n",
    "    x = tf.add(tf.matmul(x, w), b)\n",
    "    return tf.nn.relu(x)\n",
    "\n",
    "def generate_network(x, weights, biases, layers, drop_out=False, dropout=None):\n",
    "    \n",
    "    # Tensor input 4-D: [Batch Size, Height, Width, Channel]\n",
    "    previous_layer = tf.reshape(x, shape=[-1, 28, 28, 1])\n",
    "    new_layer = None\n",
    "    \n",
    "    for i in range(len(layers)-1):\n",
    "        if layers[i] == 1: #Convolutional layer\n",
    "            new_layer = conv2d(previous_layer, weights[i], biases[i])\n",
    "            new_layer = maxpool2d(new_layer, k=2)\n",
    "        \n",
    "        if layers[i] == 2: #Fully connected layer\n",
    "            new_layer = fully_connected(previous_layer, weights[i], biases[i])\n",
    "        \n",
    "        previous_layer = new_layer\n",
    "        \n",
    "    if drop_out:\n",
    "        previous_layer = tf.nn.dropout(previous_layer, dropout)\n",
    "    \n",
    "    return tf.add(tf.matmul(previous_layer, weights[len(layers)-1]), biases[len(layers)-1])"
   ]
  },
  {
   "cell_type": "code",
   "execution_count": 212,
   "metadata": {},
   "outputs": [],
   "source": [
    "tf.reset_default_graph()\n",
    "\n",
    "x = tf.placeholder(\"float\", [None, n_input])\n",
    "y = tf.placeholder(\"float\", [None, n_output])\n",
    "\n",
    "#Capa convolucional 32 filtro 3x3\n",
    "weights.append(tf.get_variable('W0', shape=(3,3,1,32)))\n",
    "biases.append(tf.get_variable('B0', shape=(32)))\n",
    "#Capa convolucional 64 filtro 3x3\n",
    "weights.append(tf.get_variable('W1', shape=(3,3,32,64)))\n",
    "biases.append(tf.get_variable('B1', shape=(64)))\n",
    "#Capa Densa 1024 unidades\n",
    "weights.append(tf.get_variable('D1', shape=(7*7*64, 1024)))\n",
    "biases.append(tf.get_variable('BD1', shape=(1024)))\n",
    "#Capa salida 10 clases\n",
    "weights.append(tf.get_variable('OUT', shape=(1024,n_output)))\n",
    "biases.append(tf.get_variable('BOUT', shape=(n_output)))\n",
    "\n",
    "net = generate_network(x, weights, biases, [1, 1, 2, 3])"
   ]
  },
  {
   "cell_type": "code",
   "execution_count": 213,
   "metadata": {},
   "outputs": [],
   "source": [
    "cost = tf.reduce_mean(\n",
    "    tf.nn.softmax_cross_entropy_with_logits(\n",
    "        logits=net, \n",
    "        labels=y))\n",
    "\n",
    "optimizer = tf.train.AdamOptimizer(\n",
    "    learning_rate=learning_rate).minimize(cost)\n",
    "\n",
    "correct_prediction = tf.equal(tf.argmax(net, 1), tf.argmax(y, 1))\n",
    "accuracy = tf.reduce_mean(tf.cast(correct_prediction, tf.float32))\n"
   ]
  },
  {
   "cell_type": "code",
   "execution_count": 214,
   "metadata": {},
   "outputs": [],
   "source": [
    "def train(training_iters, learning_rate, batch_size = 128):\n",
    "\n",
    "    init = tf.global_variables_initializer()\n",
    "\n",
    "    with tf.Session() as sess:\n",
    "\n",
    "        sess.run(init) \n",
    "\n",
    "        train_loss = []\n",
    "        test_loss = []\n",
    "        train_accuracy = []\n",
    "        test_accuracy = []\n",
    "\n",
    "        summary_writer = tf.summary.FileWriter('./output', sess.graph)\n",
    "\n",
    "        for epoch in range(training_iters):\n",
    "\n",
    "            for batch in range(len(train_X)//batch_size):\n",
    "\n",
    "                batch_x = train_X[batch*batch_size:min((batch+1)*batch_size,len(train_X))]\n",
    "                batch_y = train_y[batch*batch_size:min((batch+1)*batch_size,len(train_y))]    \n",
    "\n",
    "                opt = sess.run(optimizer, feed_dict={x: batch_x, y: batch_y})\n",
    "                loss, acc = sess.run([cost, accuracy], feed_dict={x: batch_x,\n",
    "                                                                  y: batch_y})\n",
    "\n",
    "            if (epoch + 1) % 10 == 0:\n",
    "                print(\"Iteración \" + str(epoch+1) + \", Loss= \" + \\\n",
    "                      \"{:.6f}\".format(loss) + \", Exactitud= \" + \\\n",
    "                      \"{:.5f}\".format(acc))\n",
    "                \n",
    "            test_acc, valid_loss = sess.run([accuracy,cost], feed_dict={x: test_X,y : test_y})\n",
    "            train_loss.append(loss)\n",
    "            test_loss.append(valid_loss)\n",
    "            train_accuracy.append(acc)\n",
    "            test_accuracy.append(test_acc)\n",
    "\n",
    "        print(\"Aprendizaje finalizado\")\n",
    "\n",
    "        test_acc, valid_loss = sess.run([accuracy,cost], feed_dict={x: test_X,y : test_y})\n",
    "        train_loss.append(loss)\n",
    "        test_loss.append(valid_loss)\n",
    "        train_accuracy.append(acc)\n",
    "        test_accuracy.append(test_acc)\n",
    "        print(\"Exactitud test:\",\"{:.5f}\".format(test_acc))\n",
    "\n",
    "        summary_writer.close()\n",
    "        \n",
    "        return [train_loss, test_loss, train_accuracy, test_accuracy]\n",
    "        \n",
    "def print_results(train_loss, test_loss):\n",
    "    \n",
    "    plt.plot(range(len(train_loss)), train_loss, 'b', label='Loss entrenamiento')\n",
    "    plt.plot(range(len(test_loss)), test_loss, 'r', label='Loss test')\n",
    "    plt.title('Entrenamiento y test')\n",
    "    plt.xlabel('Iteraciones',fontsize=16)\n",
    "    plt.ylabel('Loss',fontsize=16)\n",
    "    plt.legend()\n",
    "    plt.figure()\n",
    "    plt.show()"
   ]
  },
  {
   "cell_type": "code",
   "execution_count": 215,
   "metadata": {},
   "outputs": [
    {
     "name": "stdout",
     "output_type": "stream",
     "text": [
      "Iteración 10, Loss= 0.091082, Exactitud= 0.94531\n",
      "Aprendizaje finalizado\n",
      "Exactitud test: 0.89510\n"
     ]
    },
    {
     "data": {
      "image/png": "[encoded data removed]",
      "text/plain": [
       "<Figure size 432x288 with 1 Axes>"
      ]
     },
     "metadata": {
      "needs_background": "light"
     },
     "output_type": "display_data"
    },
    {
     "data": {
      "text/plain": [
       "<Figure size 432x288 with 0 Axes>"
      ]
     },
     "metadata": {},
     "output_type": "display_data"
    }
   ],
   "source": [
    "results = train(10, 0.001, 128)\n",
    "print_results(results[0], results[1])"
   ]
  },
  {
   "cell_type": "code",
   "execution_count": null,
   "metadata": {},
   "outputs": [],
   "source": []
  }
 ],
 "metadata": {
  "kernelspec": {
   "display_name": "Python 3",
   "language": "python",
   "name": "python3"
  },
  "language_info": {
   "codemirror_mode": {
    "name": "ipython",
    "version": 3
   },
   "file_extension": ".py",
   "mimetype": "text/x-python",
   "name": "python",
   "nbconvert_exporter": "python",
   "pygments_lexer": "ipython3",
   "version": "3.7.4"
  }
 },
 "nbformat": 4,
 "nbformat_minor": 4
}
